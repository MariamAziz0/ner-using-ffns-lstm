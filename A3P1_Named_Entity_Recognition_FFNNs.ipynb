{
  "cells": [
    {
      "cell_type": "markdown",
      "metadata": {
        "id": "view-in-github",
        "colab_type": "text"
      },
      "source": [
        "<a href=\"https://colab.research.google.com/github/MariamAziz0/ner-using-ffns-lstm/blob/ffns/A3P1_Named_Entity_Recognition_FFNNs.ipynb\" target=\"_parent\"><img src=\"https://colab.research.google.com/assets/colab-badge.svg\" alt=\"Open In Colab\"/></a>"
      ]
    },
    {
      "cell_type": "markdown",
      "metadata": {
        "id": "A6czvz5VKO5M"
      },
      "source": [
        "# Notebook for Programming in Problem 3\n",
        "Welcome to the programming portion of the assignment! Each assignment throughout the semester will have a written portion and a programming portion. We will be using [Google Colab](https://colab.research.google.com/notebooks/intro.ipynb#recent=true), so if you have never used it before, take a quick look through this introduction: [Working with Google Colab](https://docs.google.com/document/d/1LlnXoOblXwW3YX-0yG_5seTXJsb3kRdMMRYqs8Qqum4/edit?usp=sharing).\n",
        "\n",
        "We'll also be programming in Python, which we will assume a basic familiarity with. Python has fantastic community support and we'll be using numerous packages for machine learning (ML) and natural language processing (NLP) tasks."
      ]
    },
    {
      "cell_type": "markdown",
      "metadata": {
        "id": "5o8HI5JqTvU5"
      },
      "source": [
        "## Learning Objectives\n",
        "In this problem, we will use [PyTorch](https://pytorch.org/) to implement feedforward neural networks (FFNNs) and long short-term memory (LSTM) for named entity recognition (NER). We will use the same dataset as in Assignment #2."
      ]
    },
    {
      "cell_type": "markdown",
      "metadata": {
        "id": "ObrHyvWvTyGZ"
      },
      "source": [
        "## Writing Code\n",
        "Look for the keyword \"TODO\" and fill in your code in the empty space.\n",
        "Feel free to change function signatures, but be careful that you might need to also change how they are called in other parts of the notebook."
      ]
    },
    {
      "cell_type": "markdown",
      "metadata": {
        "id": "3GAWytObKh4K"
      },
      "source": [
        "## Use GPUs in Colab\n",
        "\n",
        "GPUs are not strictly necessary for this assignment, but they will accerlerate your experiments and may be helpful for your final project. To enable the free GPU provided by Colab, just go to **Edit > Notebook settings** and select **GPU** as **Hardware accelerator**. To test your GPU, run the `nvidia-smi` command."
      ]
    },
    {
      "cell_type": "code",
      "execution_count": 1,
      "metadata": {
        "id": "r6YTnpgbFdMI",
        "colab": {
          "base_uri": "https://localhost:8080/"
        },
        "outputId": "975c091f-891b-46bb-b009-da1f113eec54"
      },
      "outputs": [
        {
          "output_type": "stream",
          "name": "stdout",
          "text": [
            "Mon Dec  9 22:15:27 2024       \n",
            "+---------------------------------------------------------------------------------------+\n",
            "| NVIDIA-SMI 535.104.05             Driver Version: 535.104.05   CUDA Version: 12.2     |\n",
            "|-----------------------------------------+----------------------+----------------------+\n",
            "| GPU  Name                 Persistence-M | Bus-Id        Disp.A | Volatile Uncorr. ECC |\n",
            "| Fan  Temp   Perf          Pwr:Usage/Cap |         Memory-Usage | GPU-Util  Compute M. |\n",
            "|                                         |                      |               MIG M. |\n",
            "|=========================================+======================+======================|\n",
            "|   0  Tesla T4                       Off | 00000000:00:04.0 Off |                    0 |\n",
            "| N/A   62C    P8              11W /  70W |      0MiB / 15360MiB |      0%      Default |\n",
            "|                                         |                      |                  N/A |\n",
            "+-----------------------------------------+----------------------+----------------------+\n",
            "                                                                                         \n",
            "+---------------------------------------------------------------------------------------+\n",
            "| Processes:                                                                            |\n",
            "|  GPU   GI   CI        PID   Type   Process name                            GPU Memory |\n",
            "|        ID   ID                                                             Usage      |\n",
            "|=======================================================================================|\n",
            "|  No running processes found                                                           |\n",
            "+---------------------------------------------------------------------------------------+\n"
          ]
        }
      ],
      "source": [
        "!nvidia-smi"
      ]
    },
    {
      "cell_type": "markdown",
      "metadata": {
        "id": "CbgSdkFMMa3E"
      },
      "source": [
        "You should see a table summarizing the current status of the GPU, including the model, power consumption, GPU memory usage, etc. However, Colab does not guarantee which model you will get. We tested the assignment successfully on Tesla T4 but had some problems on other GPUs. **Please make sure you get a Tesla T4** by checking the output of `nvidia-smi`. We empirically observe that you are more likely to get a T4 **with your Princeton account**.\n",
        "\n",
        "If you are still unable to get a T4. You have 3 options:\n",
        "1. Reload the page until you get one.\n",
        "2. Proceed with other GPUs. They should work as long as Colab does not crash when executing code.\n",
        "3. Disable the GPU and use the CPU for this assignment, which is totally fine."
      ]
    },
    {
      "cell_type": "markdown",
      "metadata": {
        "id": "26HdExpsKTOg"
      },
      "source": [
        "## Learning PyTorch\n",
        "\n",
        "This assignment assumes basic familiarity with [PyTorch](https://pytorch.org/), which is a much needed skill for the upcoming Assignment #4, for the final project, and even beyond this course. If you aren't familiar with PyTorch, don't worry, it's a great time to start now! Here are some resources to help you get started. You may also find plenty of them online.\n",
        "\n",
        "* We will cover PyTorch in the precept on 3/18. Watch the video on Canvas if you are not able to make it.\n",
        "* [Deep Learning with PyTorch: A 60 Minute Blitz](https://pytorch.org/tutorials/beginner/deep_learning_60min_blitz.html)\n",
        "* [Learning PyTorch with Examples](https://pytorch.org/tutorials/beginner/pytorch_with_examples.html)\n"
      ]
    },
    {
      "cell_type": "markdown",
      "metadata": {
        "id": "tnYMKJlKNXYe"
      },
      "source": [
        "## Installing PyTorch and Other Packages\n",
        "\n",
        "Install PyTorch using pip. See [https://pytorch.org/](https://pytorch.org/) if you want to install it on your computer."
      ]
    },
    {
      "cell_type": "code",
      "execution_count": 2,
      "metadata": {
        "id": "-dRVuiP_JVdT",
        "colab": {
          "base_uri": "https://localhost:8080/"
        },
        "outputId": "e05d89c9-d6eb-48b2-e695-46c6a16345f5"
      },
      "outputs": [
        {
          "output_type": "stream",
          "name": "stdout",
          "text": [
            "Looking in links: https://download.pytorch.org/whl/torch_stable.html\n",
            "Collecting torch==2.0.1+cu118\n",
            "  Downloading https://download.pytorch.org/whl/cu118/torch-2.0.1%2Bcu118-cp310-cp310-linux_x86_64.whl (2267.3 MB)\n",
            "\u001b[2K     \u001b[90m━━━━━━━━━━━━━━━━━━━━━━━━━━━━━━━━━━━━━━━━\u001b[0m \u001b[32m2.3/2.3 GB\u001b[0m \u001b[31m433.3 kB/s\u001b[0m eta \u001b[36m0:00:00\u001b[0m\n",
            "\u001b[?25hCollecting torchtext==0.15.2\n",
            "  Downloading https://download.pytorch.org/whl/torchtext-0.15.2%2Bcpu-cp310-cp310-linux_x86_64.whl (2.0 MB)\n",
            "\u001b[2K     \u001b[90m━━━━━━━━━━━━━━━━━━━━━━━━━━━━━━━━━━━━━━━━\u001b[0m \u001b[32m2.0/2.0 MB\u001b[0m \u001b[31m47.6 MB/s\u001b[0m eta \u001b[36m0:00:00\u001b[0m\n",
            "\u001b[?25hRequirement already satisfied: filelock in /usr/local/lib/python3.10/dist-packages (from torch==2.0.1+cu118) (3.16.1)\n",
            "Requirement already satisfied: typing-extensions in /usr/local/lib/python3.10/dist-packages (from torch==2.0.1+cu118) (4.12.2)\n",
            "Requirement already satisfied: sympy in /usr/local/lib/python3.10/dist-packages (from torch==2.0.1+cu118) (1.13.1)\n",
            "Requirement already satisfied: networkx in /usr/local/lib/python3.10/dist-packages (from torch==2.0.1+cu118) (3.4.2)\n",
            "Requirement already satisfied: jinja2 in /usr/local/lib/python3.10/dist-packages (from torch==2.0.1+cu118) (3.1.4)\n",
            "Collecting triton==2.0.0 (from torch==2.0.1+cu118)\n",
            "  Downloading triton-2.0.0-1-cp310-cp310-manylinux2014_x86_64.manylinux_2_17_x86_64.whl.metadata (1.0 kB)\n",
            "Requirement already satisfied: tqdm in /usr/local/lib/python3.10/dist-packages (from torchtext==0.15.2) (4.66.6)\n",
            "Requirement already satisfied: requests in /usr/local/lib/python3.10/dist-packages (from torchtext==0.15.2) (2.32.3)\n",
            "Requirement already satisfied: numpy in /usr/local/lib/python3.10/dist-packages (from torchtext==0.15.2) (1.26.4)\n",
            "Collecting torchdata==0.6.1 (from torchtext==0.15.2)\n",
            "  Downloading torchdata-0.6.1-cp310-cp310-manylinux_2_17_x86_64.manylinux2014_x86_64.whl.metadata (13 kB)\n",
            "Requirement already satisfied: urllib3>=1.25 in /usr/local/lib/python3.10/dist-packages (from torchdata==0.6.1->torchtext==0.15.2) (2.2.3)\n",
            "Requirement already satisfied: cmake in /usr/local/lib/python3.10/dist-packages (from triton==2.0.0->torch==2.0.1+cu118) (3.30.5)\n",
            "Collecting lit (from triton==2.0.0->torch==2.0.1+cu118)\n",
            "  Downloading lit-18.1.8-py3-none-any.whl.metadata (2.5 kB)\n",
            "Requirement already satisfied: MarkupSafe>=2.0 in /usr/local/lib/python3.10/dist-packages (from jinja2->torch==2.0.1+cu118) (3.0.2)\n",
            "Requirement already satisfied: charset-normalizer<4,>=2 in /usr/local/lib/python3.10/dist-packages (from requests->torchtext==0.15.2) (3.4.0)\n",
            "Requirement already satisfied: idna<4,>=2.5 in /usr/local/lib/python3.10/dist-packages (from requests->torchtext==0.15.2) (3.10)\n",
            "Requirement already satisfied: certifi>=2017.4.17 in /usr/local/lib/python3.10/dist-packages (from requests->torchtext==0.15.2) (2024.8.30)\n",
            "Requirement already satisfied: mpmath<1.4,>=1.1.0 in /usr/local/lib/python3.10/dist-packages (from sympy->torch==2.0.1+cu118) (1.3.0)\n",
            "Downloading torchdata-0.6.1-cp310-cp310-manylinux_2_17_x86_64.manylinux2014_x86_64.whl (4.6 MB)\n",
            "\u001b[2K   \u001b[90m━━━━━━━━━━━━━━━━━━━━━━━━━━━━━━━━━━━━━━━━\u001b[0m \u001b[32m4.6/4.6 MB\u001b[0m \u001b[31m48.6 MB/s\u001b[0m eta \u001b[36m0:00:00\u001b[0m\n",
            "\u001b[?25hDownloading triton-2.0.0-1-cp310-cp310-manylinux2014_x86_64.manylinux_2_17_x86_64.whl (63.3 MB)\n",
            "\u001b[2K   \u001b[90m━━━━━━━━━━━━━━━━━━━━━━━━━━━━━━━━━━━━━━━━\u001b[0m \u001b[32m63.3/63.3 MB\u001b[0m \u001b[31m10.4 MB/s\u001b[0m eta \u001b[36m0:00:00\u001b[0m\n",
            "\u001b[?25hDownloading lit-18.1.8-py3-none-any.whl (96 kB)\n",
            "\u001b[2K   \u001b[90m━━━━━━━━━━━━━━━━━━━━━━━━━━━━━━━━━━━━━━━━\u001b[0m \u001b[32m96.4/96.4 kB\u001b[0m \u001b[31m7.9 MB/s\u001b[0m eta \u001b[36m0:00:00\u001b[0m\n",
            "\u001b[?25hInstalling collected packages: lit, triton, torch, torchdata, torchtext\n",
            "  Attempting uninstall: torch\n",
            "    Found existing installation: torch 2.5.1+cu121\n",
            "    Uninstalling torch-2.5.1+cu121:\n",
            "      Successfully uninstalled torch-2.5.1+cu121\n",
            "\u001b[31mERROR: pip's dependency resolver does not currently take into account all the packages that are installed. This behaviour is the source of the following dependency conflicts.\n",
            "torchaudio 2.5.1+cu121 requires torch==2.5.1, but you have torch 2.0.1+cu118 which is incompatible.\n",
            "torchvision 0.20.1+cu121 requires torch==2.5.1, but you have torch 2.0.1+cu118 which is incompatible.\u001b[0m\u001b[31m\n",
            "\u001b[0mSuccessfully installed lit-18.1.8 torch-2.0.1+cu118 torchdata-0.6.1 torchtext-0.15.2+cpu triton-2.0.0\n"
          ]
        }
      ],
      "source": [
        "!pip install torch==2.0.1+cu118 torchtext==0.15.2 -f https://download.pytorch.org/whl/torch_stable.html"
      ]
    },
    {
      "cell_type": "markdown",
      "metadata": {
        "id": "TPsFH637OpLy"
      },
      "source": [
        "Test if our installation works:"
      ]
    },
    {
      "cell_type": "code",
      "execution_count": 3,
      "metadata": {
        "id": "c62StNb2NvKk",
        "colab": {
          "base_uri": "https://localhost:8080/"
        },
        "outputId": "d64cd67b-29d0-430e-86ed-3416dcc9c29a"
      },
      "outputs": [
        {
          "output_type": "stream",
          "name": "stdout",
          "text": [
            "PyTorch successfully installed!\n",
            "Version: 2.0.1+cu118\n"
          ]
        }
      ],
      "source": [
        "import torch\n",
        "\n",
        "# Multiply two matrices on GPU\n",
        "a = torch.rand(100, 200).cuda()\n",
        "b = torch.rand(200, 100).cuda()\n",
        "c = torch.matmul(a, b)\n",
        "\n",
        "print(\"PyTorch successfully installed!\")\n",
        "print(\"Version:\", torch.__version__)"
      ]
    },
    {
      "cell_type": "markdown",
      "metadata": {
        "id": "1qaC8sxcqkGX"
      },
      "source": [
        "Also install [scikit-learn](https://scikit-learn.org/stable/). We will use it for calculating evaluation metrics such as accuracy and F1 score."
      ]
    },
    {
      "cell_type": "code",
      "execution_count": 4,
      "metadata": {
        "id": "i5Y2xB_uqqM9",
        "colab": {
          "base_uri": "https://localhost:8080/"
        },
        "outputId": "174d074f-d452-4e3f-9adc-134efa79a3cd"
      },
      "outputs": [
        {
          "output_type": "stream",
          "name": "stdout",
          "text": [
            "Requirement already satisfied: scikit-learn in /usr/local/lib/python3.10/dist-packages (1.5.2)\n",
            "Collecting scikit-learn\n",
            "  Downloading scikit_learn-1.6.0-cp310-cp310-manylinux_2_17_x86_64.manylinux2014_x86_64.whl.metadata (18 kB)\n",
            "Requirement already satisfied: numpy>=1.19.5 in /usr/local/lib/python3.10/dist-packages (from scikit-learn) (1.26.4)\n",
            "Requirement already satisfied: scipy>=1.6.0 in /usr/local/lib/python3.10/dist-packages (from scikit-learn) (1.13.1)\n",
            "Requirement already satisfied: joblib>=1.2.0 in /usr/local/lib/python3.10/dist-packages (from scikit-learn) (1.4.2)\n",
            "Requirement already satisfied: threadpoolctl>=3.1.0 in /usr/local/lib/python3.10/dist-packages (from scikit-learn) (3.5.0)\n",
            "Downloading scikit_learn-1.6.0-cp310-cp310-manylinux_2_17_x86_64.manylinux2014_x86_64.whl (13.5 MB)\n",
            "\u001b[2K   \u001b[90m━━━━━━━━━━━━━━━━━━━━━━━━━━━━━━━━━━━━━━━━\u001b[0m \u001b[32m13.5/13.5 MB\u001b[0m \u001b[31m97.7 MB/s\u001b[0m eta \u001b[36m0:00:00\u001b[0m\n",
            "\u001b[?25hInstalling collected packages: scikit-learn\n",
            "  Attempting uninstall: scikit-learn\n",
            "    Found existing installation: scikit-learn 1.5.2\n",
            "    Uninstalling scikit-learn-1.5.2:\n",
            "      Successfully uninstalled scikit-learn-1.5.2\n",
            "Successfully installed scikit-learn-1.6.0\n"
          ]
        }
      ],
      "source": [
        "!pip install -U scikit-learn"
      ]
    },
    {
      "cell_type": "markdown",
      "metadata": {
        "id": "bhV4CYivRbt4"
      },
      "source": [
        "Let's import all the packages at once:"
      ]
    },
    {
      "cell_type": "code",
      "execution_count": 5,
      "metadata": {
        "id": "EjRM4cCFRh-d"
      },
      "outputs": [],
      "source": [
        "import torch\n",
        "import torch.nn as nn\n",
        "import torch.optim as optim\n",
        "import torch.nn.functional as F\n",
        "from torch.utils.data import Dataset, DataLoader\n",
        "from torchtext.vocab import Vocab, vocab\n",
        "import numpy as np\n",
        "from sklearn.metrics import accuracy_score, f1_score, confusion_matrix\n",
        "import re\n",
        "from collections import Counter\n",
        "from typing import List, Tuple, Dict, Optional, Any"
      ]
    },
    {
      "cell_type": "markdown",
      "metadata": {
        "id": "Yn1bIPjAN-9V"
      },
      "source": [
        "## Feedforward Neural Network (FFNN)"
      ]
    },
    {
      "cell_type": "markdown",
      "metadata": {
        "id": "sJOKIneRTrTH"
      },
      "source": [
        "### Data Loading\n",
        "\n",
        "We will use the same dataset for named entity recognition in Assignment #2. First download the data and take a look at the first 50 lines:"
      ]
    },
    {
      "cell_type": "code",
      "execution_count": 6,
      "metadata": {
        "id": "lWqz7kDxSqeb",
        "colab": {
          "base_uri": "https://localhost:8080/"
        },
        "outputId": "2211773e-cfe4-4917-b369-8b7c8e3d768c"
      },
      "outputs": [
        {
          "output_type": "stream",
          "name": "stdout",
          "text": [
            "EU NNP I-NP ORG\n",
            "rejects VBZ I-VP O\n",
            "German JJ I-NP MISC\n",
            "call NN I-NP O\n",
            "to TO I-VP O\n",
            "boycott VB I-VP O\n",
            "British JJ I-NP MISC\n",
            "lamb NN I-NP O\n",
            ". . O O\n",
            "\n",
            "Peter NNP I-NP PER\n",
            "Blackburn NNP I-NP PER\n",
            "\n",
            "BRUSSELS NNP I-NP LOC\n",
            "1996-08-22 CD I-NP O\n",
            "\n",
            "The DT I-NP O\n",
            "European NNP I-NP ORG\n",
            "Commission NNP I-NP ORG\n",
            "said VBD I-VP O\n",
            "on IN I-PP O\n",
            "Thursday NNP I-NP O\n",
            "it PRP B-NP O\n",
            "disagreed VBD I-VP O\n",
            "with IN I-PP O\n",
            "German JJ I-NP MISC\n",
            "advice NN I-NP O\n",
            "to TO I-PP O\n",
            "consumers NNS I-NP O\n",
            "to TO I-VP O\n",
            "shun VB I-VP O\n",
            "British JJ I-NP MISC\n",
            "lamb NN I-NP O\n",
            "until IN I-SBAR O\n",
            "scientists NNS I-NP O\n",
            "determine VBP I-VP O\n",
            "whether IN I-SBAR O\n",
            "mad JJ I-NP O\n",
            "cow NN I-NP O\n",
            "disease NN I-NP O\n",
            "can MD I-VP O\n",
            "be VB I-VP O\n",
            "transmitted VBN I-VP O\n",
            "to TO I-PP O\n",
            "sheep NN I-NP O\n",
            ". . O O\n",
            "\n",
            "Germany NNP I-NP LOC\n",
            "'s POS B-NP O\n",
            "representative NN I-NP O\n"
          ]
        }
      ],
      "source": [
        "!wget --quiet https://princeton-nlp.github.io/cos484/assignments/a2/eng.train\n",
        "!wget --quiet https://princeton-nlp.github.io/cos484/assignments/a2/eng.val\n",
        "!cat eng.train | head -n 50"
      ]
    },
    {
      "cell_type": "markdown",
      "metadata": {
        "id": "YVt1a6nzWsiF"
      },
      "source": [
        "Each line corresponds to a word. Different sentences are separated by an additional line break. Take \"EU NNP I-NP ORG\" as an example. \"EU\" is a word. \"NNP\" and \"I-NP\" are tags for POS tagging and chunking, which we will ignore. \"ORG\" is the tag for NER, which is our prediction target. There are 5 possible values for the NER tag: ORG, PER, LOC, MISC, and O.\n",
        "\n"
      ]
    },
    {
      "cell_type": "markdown",
      "metadata": {
        "id": "ooQEJEafWCcd"
      },
      "source": [
        "First, we write a dataloader for loading the dataset into mini-batches used for training the model. See [torch.utils.data](https://pytorch.org/docs/stable/data.html) for how dataloaders work in PyTorch. In short, we typically need to do two things:\n",
        "1. Define a [map-style dataset](https://pytorch.org/docs/stable/data.html#map-style-datasets) by subclassing [Dataset](https://pytorch.org/docs/stable/data.html#torch.utils.data.Dataset) and overriding 3 methods: `__init__`, `__getitem__`, and `__len__`.\n",
        "1. Create a [Dataloader](https://pytorch.org/docs/stable/data.html#torch.utils.data.Dataset) by calling its constructor. We have to specify the dataset and a few hyperparameters such as batch size.\n",
        "\n",
        "Most of the work has been done by us. As a simple exercise, try to understand the code and implement `__len__`."
      ]
    },
    {
      "cell_type": "code",
      "execution_count": 7,
      "metadata": {
        "id": "WnNfOBUYJvVW"
      },
      "outputs": [],
      "source": [
        "# A sentence is a list of (word, tag) tuples.\n",
        "# For example, [(\"hello\", \"O\"), (\"world\", \"O\"), (\"!\", \"O\")]\n",
        "Sentence = List[Tuple[str, str]]\n",
        "\n",
        "\n",
        "def read_data_file(\n",
        "    datapath: str,\n",
        ") -> Tuple[List[Sentence], Dict[str, int], Dict[str, int]]:\n",
        "    \"\"\"\n",
        "    Read and preprocess input data from the file `datapath`.\n",
        "    Example:\n",
        "    ```\n",
        "        sentences, word_cnt, tag_cnt = read_data_file(\"eng.train\")\n",
        "    ```\n",
        "    Return values:\n",
        "        `sentences`: a list of sentences, including words and NER tags\n",
        "        `word_cnt`: a Counter object, the number of occurrences of each word\n",
        "        `tag_cnt`: a Counter object, the number of occurences of each NER tag\n",
        "    \"\"\"\n",
        "    sentences: List[Sentence] = []\n",
        "    word_cnt: Dict[str, int] = Counter()\n",
        "    tag_cnt: Dict[str, int] = Counter()\n",
        "\n",
        "    for sentence_txt in open(datapath).read().split(\"\\n\\n\"):\n",
        "        if \"DOCSTART\" in sentence_txt:\n",
        "            # Ignore dummy sentences at the begining of each document.\n",
        "            continue\n",
        "        # Read a new sentence\n",
        "        sentences.append([])\n",
        "        for token in sentence_txt.split(\"\\n\"):\n",
        "            w, _, _, t = token.split()\n",
        "            # Replace all digits with \"0\" to reduce out-of-vocabulary words\n",
        "            w = re.sub(\"\\d\", \"0\", w)\n",
        "            word_cnt[w] += 1\n",
        "            tag_cnt[t] += 1\n",
        "            sentences[-1].append((w, t))\n",
        "\n",
        "    return sentences, word_cnt, tag_cnt\n",
        "\n"
      ]
    },
    {
      "cell_type": "markdown",
      "metadata": {
        "id": "zFVnIjA8KEe0"
      },
      "source": [
        "## Implement the `__len__` function below **(1 point)**"
      ]
    },
    {
      "cell_type": "code",
      "execution_count": 8,
      "metadata": {
        "id": "9RGv1K0pP1bR"
      },
      "outputs": [],
      "source": [
        "\n",
        "class FixedWindowDataset(Dataset):\n",
        "    \"\"\"\n",
        "    Each data example is a word, its NER tag (the target), and a fixed window centered around it (the input).\n",
        "    \"\"\"\n",
        "\n",
        "    def __init__(\n",
        "        self,\n",
        "        datapath: str,\n",
        "        window_size: int,\n",
        "        words_vocab: Optional[Vocab] = None,\n",
        "        tags_vocab: Optional[Vocab] = None,\n",
        "    ) -> None:\n",
        "        \"\"\"\n",
        "        Initialize the dataset by reading from datapath.\n",
        "        \"\"\"\n",
        "        super().__init__()\n",
        "        self.examples = []\n",
        "        START = \"<START>\"\n",
        "        END = \"<END>\"\n",
        "        UNKNOWN = \"<UNKNOWN>\"\n",
        "\n",
        "        print(\"Loading data from %s\" % datapath)\n",
        "        sentences, word_cnt, tag_cnt = read_data_file(datapath)\n",
        "\n",
        "        # Extract windows\n",
        "        for sent in sentences:\n",
        "            words = [START for _ in range(window_size)]\n",
        "            tags = [None for _ in range(window_size)]\n",
        "            for w, t in sent:\n",
        "                words.append(w)\n",
        "                tags.append(t)\n",
        "            words.extend([END for _ in range(window_size)])\n",
        "            tags.extend([None for _ in range(window_size)])\n",
        "\n",
        "            for i, t in enumerate(tags[window_size:-window_size], start=window_size):\n",
        "                self.examples.append(\n",
        "                    {\n",
        "                        \"word\": words[i],\n",
        "                        \"tag\": t,\n",
        "                        \"context\": words[i - window_size : i + window_size + 1],\n",
        "                    }\n",
        "                )\n",
        "\n",
        "        print(\"%d examples loaded.\" % len(self.examples))\n",
        "\n",
        "        # set vocabs\n",
        "        if words_vocab is None:\n",
        "            words_vocab = vocab(word_cnt, specials=[START, END, UNKNOWN]) # automatically create a vocabulary from words in dataset\n",
        "            words_vocab.set_default_index(words_vocab[UNKNOWN])\n",
        "        self.words_vocab = words_vocab\n",
        "        self.unknown_idx = self.words_vocab[UNKNOWN]\n",
        "        self.start_idx = self.words_vocab[START]\n",
        "        self.end_idx = self.words_vocab[END]\n",
        "\n",
        "        if tags_vocab is None:\n",
        "            tags_vocab = vocab(tag_cnt, specials=[]) # automatically create tags vocabulary from tags in dataset\n",
        "        self.tags_vocab = tags_vocab\n",
        "\n",
        "    def __getitem__(self, idx: int) -> Dict[str, Any]:\n",
        "        \"\"\"\n",
        "        Get the idx'th example in the dataset.\n",
        "        Convert words and the tag to indexes.\n",
        "        \"\"\"\n",
        "        example = self.examples[idx]\n",
        "        word = example[\"word\"]\n",
        "        tag = example[\"tag\"]\n",
        "        context = example[\"context\"]\n",
        "        return {\n",
        "            \"word\": word,\n",
        "            \"word_idx\": self.words_vocab[word],\n",
        "            \"tag\": tag,\n",
        "            \"tag_idx\": self.tags_vocab[tag],\n",
        "            \"context\": context,\n",
        "            \"context_idxs\": torch.tensor(\n",
        "                [self.words_vocab[w] for w in context]\n",
        "            ),\n",
        "        }\n",
        "\n",
        "    def __len__(self) -> int:\n",
        "        \"\"\"\n",
        "        Return the number of examples in the dataset.\n",
        "        \"\"\"\n",
        "        # TODO: Implement this method\n",
        "        # START HERE\n",
        "        return len(self.examples)\n",
        "        # END"
      ]
    },
    {
      "cell_type": "code",
      "execution_count": 9,
      "metadata": {
        "id": "F-aHcN5yJyoa"
      },
      "outputs": [],
      "source": [
        "def create_fixed_window_dataloaders(\n",
        "    batch_size: int, window_size: int, shuffle: bool = True\n",
        ") -> Tuple[DataLoader, DataLoader, Dict[str, Vocab]]:\n",
        "    \"\"\"\n",
        "    Create the dataloaders for training and validaiton.\n",
        "    \"\"\"\n",
        "    ds_train = FixedWindowDataset(\"eng.train\", window_size)\n",
        "    # Re-use the vocabulary of the training data\n",
        "    ds_val = FixedWindowDataset(\"eng.val\", window_size, words_vocab=ds_train.words_vocab, tags_vocab=ds_train.tags_vocab)\n",
        "    loader_train = DataLoader(\n",
        "        ds_train, batch_size, shuffle, drop_last=True, pin_memory=True\n",
        "    )\n",
        "    loader_val = DataLoader(ds_val, batch_size, pin_memory=True)\n",
        "    return loader_train, loader_val, ds_train"
      ]
    },
    {
      "cell_type": "markdown",
      "metadata": {
        "id": "ODfPyQjPSmCv"
      },
      "source": [
        "Let's test our dataloader. Try to understand the output, as it will save your time later."
      ]
    },
    {
      "cell_type": "code",
      "execution_count": 10,
      "metadata": {
        "id": "Zmt9c9svgzy8",
        "colab": {
          "base_uri": "https://localhost:8080/"
        },
        "outputId": "67004251-1a6e-41d5-c4f0-29f244007210"
      },
      "outputs": [
        {
          "output_type": "stream",
          "name": "stdout",
          "text": [
            "Loading data from eng.train\n",
            "203621 examples loaded.\n",
            "Loading data from eng.val\n",
            "49086 examples loaded.\n",
            "Iterating on the training data..\n",
            "{'word': ['EU', 'rejects', 'German'], 'word_idx': tensor([3, 4, 5]), 'tag': ['ORG', 'O', 'MISC'], 'tag_idx': tensor([0, 1, 2]), 'context': [['<START>', '<START>', 'EU'], ['<START>', 'EU', 'rejects'], ['EU', 'rejects', 'German'], ['rejects', 'German', 'call'], ['German', 'call', 'to']], 'context_idxs': tensor([[0, 0, 3, 4, 5],\n",
            "        [0, 3, 4, 5, 6],\n",
            "        [3, 4, 5, 6, 7]])}\n",
            "5\n",
            "torch.Size([3, 5])\n",
            "Done!\n"
          ]
        }
      ],
      "source": [
        "def check_fixed_window_dataloader() -> None:\n",
        "    loader_train, _, _ = create_fixed_window_dataloaders(\n",
        "        batch_size=3, window_size=2, shuffle=False\n",
        "    )\n",
        "    print(\"Iterating on the training data..\")\n",
        "    for i, data_batch in enumerate(loader_train):\n",
        "        if i == 0:\n",
        "            print(data_batch)\n",
        "            print(len(data_batch[\"context\"]))\n",
        "            print(data_batch[\"context_idxs\"].shape)\n",
        "    print(\"Done!\")\n",
        "\n",
        "\n",
        "check_fixed_window_dataloader()"
      ]
    },
    {
      "cell_type": "markdown",
      "metadata": {
        "id": "hR_aJ-FincuN"
      },
      "source": [
        "### Implement the Model **(4 points)**   \n",
        "\n",
        "Next, let's implement feedforward neural networks following the description of Problem 1 in Assignment #3.\n",
        "\n",
        "Models in PyTorch are subclasses of [torch.nn.Module](https://pytorch.org/docs/stable/generated/torch.nn.Module.html#torch.nn.Module). You have to override `__init__` for initializing the model and `forward` for calculating the forward pass. Checkout this [tutorial](https://pytorch.org/tutorials/beginner/nn_tutorial.html#) if you are not sure how torch.nn.Module works.\n",
        "\n",
        "PyTorch provides a wide array of [neural network layers](https://pytorch.org/docs/stable/nn.html) as building blocks for your model. Here are some of them that may be relevant:\n",
        "* [nn.Embedding](https://pytorch.org/docs/stable/generated/torch.nn.Embedding.html#torch.nn.Embedding)\n",
        "* [nn.Linear](https://pytorch.org/docs/stable/generated/torch.nn.Linear.html#torch.nn.Linear)\n",
        "* [torch.sigmoid](https://pytorch.org/docs/stable/generated/torch.sigmoid.html#torch.sigmoid) or [nn.Sigmoid](https://pytorch.org/docs/stable/generated/torch.nn.Sigmoid.html#torch.nn.Sigmoid)\n",
        "\n",
        "Note a difference with Problem 3 of Assignment #2 is that we do not apply softmax when calculatinng $\\hat{y}^{(t)}$. Instead, we leave what softmax does to the loss function [F.cross_entropy](https://pytorch.org/docs/stable/nn.functional.html#torch.nn.functional.cross_entropy). For details, please see its difference with [F.nll_loss](https://pytorch.org/docs/stable/nn.functional.html#torch.nn.functional.nll_loss)."
      ]
    },
    {
      "cell_type": "code",
      "execution_count": 11,
      "metadata": {
        "id": "Hx0oMgVffSD1"
      },
      "outputs": [],
      "source": [
        "class FFNN(nn.Module):\n",
        "    \"\"\"\n",
        "    Feedforward Neural Networks for NER\n",
        "    \"\"\"\n",
        "\n",
        "    def __init__(\n",
        "        self, words_vocab: Vocab, tags_vocab: Vocab, window_size: int, d_emb: int, d_hidden: int\n",
        "    ) -> None:\n",
        "        \"\"\"\n",
        "        Initialize a two-layer feedforward neural network with sigmoid activation.\n",
        "        Parameters:\n",
        "            `words_vocab`: vocabulary of words\n",
        "            `tags_vocab`: vocabulary of tags\n",
        "            `window_size`: size of the context window (w in Problem 3 of Assignment #2)\n",
        "            `d_emb`: dimension of word embeddings (D in Problem 3 of Assignment #2)\n",
        "            `d_hidden`: dimension of the hidden layer (H in Problem 3 of Assignment #2)\n",
        "        \"\"\"\n",
        "        super().__init__()\n",
        "        # TODO: Create the word embeddings (nn.Embedding),\n",
        "        #       the hidden layer and the output layer (nn.Linear).\n",
        "        # START HERE\n",
        "        self.embedding_layer = nn.Embedding(len(words_vocab), d_emb)\n",
        "        self.hidden_layer = nn.Linear((2 * window_size + 1) * d_emb, d_hidden)\n",
        "        self.sigmoid = nn.Sigmoid()\n",
        "        self.output_layer = nn.Linear(d_hidden, len(tags_vocab))\n",
        "        # END`\n",
        "\n",
        "    def forward(self, context_idxs: torch.Tensor) -> torch.Tensor:\n",
        "        \"\"\"\n",
        "        Given the word indexes in a context window, predict the logits of the NER tag.\n",
        "        Parameters:\n",
        "            `context_idxs`: a batch_size x (2 * window_size + 1) tensor\n",
        "                          context_idxs[i] contains word indexes in the window of the i'th data example.\n",
        "        Return values:\n",
        "            `logits`: a batch_size x 5 tensor (\\hat{y}^{(t)} in Problem 3 of Assignment #2, without softmax)\n",
        "                    logits[i][j] is the output score (before softmax) of the i'th example for tag j.\n",
        "        \"\"\"\n",
        "        # TODO: Implement the forward pass of the two-layer FFNN with sigmoid hidden layer.\n",
        "        #       Do not apply softmax, since we will use F.cross_entropy as the loss function.\n",
        "        # START HERE\n",
        "        embeddings = self.embedding_layer(context_idxs)\n",
        "        embeddings = embeddings.view(embeddings.size(0), -1)\n",
        "        hidden_values = self.sigmoid(self.hidden_layer(embeddings))\n",
        "        logits = self.output_layer(hidden_values)\n",
        "        # END\n",
        "        return logits"
      ]
    },
    {
      "cell_type": "markdown",
      "metadata": {
        "id": "CyZCvfOMR7YP"
      },
      "source": [
        "Optionally, let's do a simple sanity check of your implementation. In `check_ffnn`, we load a batch of data examples and pass it through the FFNN."
      ]
    },
    {
      "cell_type": "code",
      "execution_count": 12,
      "metadata": {
        "id": "WLMGYSZ7KxzP"
      },
      "outputs": [],
      "source": [
        "# Some helper code\n",
        "def get_device() -> torch.device:\n",
        "    \"\"\"\n",
        "    Use GPU when it is available; use CPU otherwise.\n",
        "    See https://pytorch.org/docs/stable/notes/cuda.html#device-agnostic-code\n",
        "    \"\"\"\n",
        "    return torch.device(\"cuda\") if torch.cuda.is_available() else torch.device(\"cpu\")\n"
      ]
    },
    {
      "cell_type": "code",
      "execution_count": 13,
      "metadata": {
        "id": "H7jikP_1fZP-",
        "outputId": "eb3e68a6-af14-4b0e-f605-2b99fbe8eda8",
        "colab": {
          "base_uri": "https://localhost:8080/"
        }
      },
      "outputs": [
        {
          "output_type": "stream",
          "name": "stdout",
          "text": [
            "Loading data from eng.train\n",
            "203621 examples loaded.\n",
            "Loading data from eng.val\n",
            "49086 examples loaded.\n",
            "FFNN(\n",
            "  (embedding_layer): Embedding(20103, 64)\n",
            "  (hidden_layer): Linear(in_features=448, out_features=128, bias=True)\n",
            "  (sigmoid): Sigmoid()\n",
            "  (output_layer): Linear(in_features=128, out_features=5, bias=True)\n",
            ")\n",
            "Input tensor shape: torch.Size([3, 7])\n",
            "Output tensor shape: torch.Size([3, 5])\n"
          ]
        }
      ],
      "source": [
        "def check_ffnn() -> None:\n",
        "  # Hyperparameters\n",
        "  batch_size = 3\n",
        "  d_emb = 64\n",
        "  d_hidden = 128\n",
        "  window_size = 3\n",
        "  # Create the dataloaders and the model\n",
        "  loader_train, _, ds_train = create_fixed_window_dataloaders(batch_size, window_size)\n",
        "  model = FFNN(ds_train.words_vocab, ds_train.tags_vocab, window_size, d_emb, d_hidden)\n",
        "  device = get_device()\n",
        "  model.to(device)\n",
        "  print(model)\n",
        "  # Get the first batch\n",
        "  data_batch = next(iter(loader_train))\n",
        "  # Move data to GPU\n",
        "  context_idxs = data_batch[\"context_idxs\"].to(device, non_blocking=True)\n",
        "  tag_idx = data_batch[\"tag_idx\"].to(device, non_blocking=True)\n",
        "  # Calculate the model\n",
        "  print(\"Input tensor shape:\", context_idxs.size())\n",
        "  logits = model(context_idxs)\n",
        "  print(\"Output tensor shape:\", logits.size())\n",
        "\n",
        "check_ffnn()"
      ]
    },
    {
      "cell_type": "code",
      "execution_count": 14,
      "metadata": {
        "id": "PkRIOgeXIng0",
        "outputId": "3fc08c0a-59f4-4f87-b027-6d9ae3e21fa9",
        "colab": {
          "base_uri": "https://localhost:8080/"
        }
      },
      "outputs": [
        {
          "output_type": "stream",
          "name": "stdout",
          "text": [
            "Loading data from eng.train\n",
            "203621 examples loaded.\n"
          ]
        }
      ],
      "source": [
        "ds_train = FixedWindowDataset(\"eng.train\", 3)"
      ]
    },
    {
      "cell_type": "markdown",
      "metadata": {
        "id": "a0angAnEno9v"
      },
      "source": [
        "### Training and Validation  **(4 points)**   \n",
        "\n",
        "Having implemented the model, the next step is to implement functions for training and validation."
      ]
    },
    {
      "cell_type": "code",
      "execution_count": 15,
      "metadata": {
        "id": "vWcKwiIMjekY"
      },
      "outputs": [],
      "source": [
        "def eval_metrics(ground_truth: List[int], predictions: List[int]) -> Dict[str, Any]:\n",
        "    \"\"\"\n",
        "    Calculate various evaluation metrics such as accuracy and F1 score\n",
        "    Parameters:\n",
        "        `ground_truth`: the list of ground truth NER tags\n",
        "        `predictions`: the list of predicted NER tags\n",
        "    \"\"\"\n",
        "    f1_scores = f1_score(ground_truth, predictions, average=None)\n",
        "    return {\n",
        "        \"accuracy\": accuracy_score(ground_truth, predictions),\n",
        "        \"f1\": f1_scores,\n",
        "        \"average f1\": np.mean(f1_scores),\n",
        "        \"confusion matrix\": confusion_matrix(ground_truth, predictions),\n",
        "    }\n",
        "\n",
        "\n",
        "def train_ffnn(\n",
        "    model: nn.Module,\n",
        "    loader: DataLoader,\n",
        "    optimizer: optim.Optimizer,\n",
        "    device: torch.device,\n",
        "    silent: bool = False,  # whether to print the training loss\n",
        ") -> Tuple[float, Dict[str, Any]]:\n",
        "    \"\"\"\n",
        "    Train the FFNN model.\n",
        "    Return values:\n",
        "        1. the average training loss\n",
        "        2. training metrics such as accuracy and F1 score\n",
        "    \"\"\"\n",
        "    model.train()\n",
        "    ground_truth = []\n",
        "    predictions = []\n",
        "    losses = []\n",
        "    report_interval = 100\n",
        "\n",
        "    for i, data_batch in enumerate(loader):\n",
        "        context_idxs = data_batch[\"context_idxs\"].to(device, non_blocking=True)\n",
        "        tag_idx = data_batch[\"tag_idx\"].to(device, non_blocking=True)\n",
        "\n",
        "        # TODO:\n",
        "        # 1. Perform the forward pass to calculate the model's output. Save it to the variable \"logits\".\n",
        "        # 2. Calculate the loss using the output and the ground truth tags. Save it to the variable \"loss\".\n",
        "        # 3. Perform the backward pass to calculate the gradient.\n",
        "        # 4. Use the optimizer to update model parameters.\n",
        "        # Caveat: You may need to call optimizer.zero_grad(). Figure out what it does!\n",
        "        # START HERE\n",
        "\n",
        "        # logits = ...\n",
        "        # loss = ...\n",
        "\n",
        "        logits = model.forward(context_idxs)\n",
        "        loss = F.cross_entropy(logits, tag_idx)\n",
        "        optimizer.zero_grad()\n",
        "        loss.backward()\n",
        "        optimizer.step()\n",
        "        # END\n",
        "\n",
        "        losses.append(loss.item())\n",
        "        ground_truth.extend(tag_idx.tolist())\n",
        "        predictions.extend(logits.argmax(dim=-1).tolist())\n",
        "\n",
        "        if not silent and i > 0 and i % report_interval == 0:\n",
        "            print(\n",
        "                \"\\t[%06d/%06d] Loss: %f\"\n",
        "                % (i, len(loader), np.mean(losses[-report_interval:]))\n",
        "            )\n",
        "\n",
        "    return np.mean(losses), eval_metrics(ground_truth, predictions)\n",
        "\n",
        "\n",
        "def validate_ffnn(\n",
        "    model: nn.Module, loader: DataLoader, device: torch.device\n",
        ") -> Tuple[float, Dict[str, Any]]:\n",
        "    \"\"\"\n",
        "    Validate the FFNN model.\n",
        "    Return values:\n",
        "        1. the average validation loss\n",
        "        2. validation metrics such as accuracy and F1 score\n",
        "    \"\"\"\n",
        "    model.eval()\n",
        "    ground_truth = []\n",
        "    predictions = []\n",
        "    losses = []\n",
        "\n",
        "    with torch.no_grad():\n",
        "\n",
        "        for data_batch in loader:\n",
        "            context_idxs = data_batch[\"context_idxs\"].to(device, non_blocking=True)\n",
        "            tag_idx = data_batch[\"tag_idx\"].to(device, non_blocking=True)\n",
        "\n",
        "            # TODO: Similar to what you did in train_ffnn, but only step 1 and 2.\n",
        "            # START HERE\n",
        "            logits = model.forward(context_idxs)\n",
        "            loss = F.cross_entropy(logits, tag_idx)\n",
        "            # END\n",
        "\n",
        "            losses.append(loss.item())\n",
        "            ground_truth.extend(tag_idx.tolist())\n",
        "            predictions.extend(logits.argmax(dim=-1).tolist())\n",
        "\n",
        "    return np.mean(losses), eval_metrics(ground_truth, predictions)\n",
        "\n",
        "\n",
        "def train_val_loop_ffnn(hyperparams: Dict[str, Any]) -> None:\n",
        "    \"\"\"\n",
        "    Train and validate the FFNN model for a number of epochs.\n",
        "    \"\"\"\n",
        "    print(\"Hyperparameters:\", hyperparams)\n",
        "    # Create the dataloaders\n",
        "    loader_train, loader_val, ds_train = create_fixed_window_dataloaders(\n",
        "        hyperparams[\"batch_size\"], hyperparams[\"window_size\"]\n",
        "    )\n",
        "    # Create the model\n",
        "    model = FFNN(\n",
        "        ds_train.words_vocab,\n",
        "        ds_train.tags_vocab,\n",
        "        hyperparams[\"window_size\"],\n",
        "        hyperparams[\"d_emb\"],\n",
        "        hyperparams[\"d_hidden\"],\n",
        "    )\n",
        "    device = get_device()\n",
        "    model.to(device)\n",
        "    print(model)\n",
        "    # Create the optimizer\n",
        "    optimizer = optim.RMSprop(\n",
        "        model.parameters(), hyperparams[\"learning_rate\"], weight_decay=hyperparams[\"l2\"]\n",
        "    )\n",
        "\n",
        "    # Train and validate\n",
        "    for i in range(hyperparams[\"num_epochs\"]):\n",
        "        print(\"Epoch #%d\" % i)\n",
        "\n",
        "        print(\"Training..\")\n",
        "        loss_train, metrics_train = train_ffnn(\n",
        "            model, loader_train, optimizer, device, silent=True\n",
        "        )\n",
        "        print(\"Training loss: \", loss_train)\n",
        "        print(\"Training metrics:\")\n",
        "        for k, v in metrics_train.items():\n",
        "            print(\"\\t\", k, \": \", v)\n",
        "\n",
        "        print(\"Validating..\")\n",
        "        loss_val, metrics_val = validate_ffnn(model, loader_val, device)\n",
        "        print(\"Validation loss: \", loss_val)\n",
        "        print(\"Validation metrics:\")\n",
        "        for k, v in metrics_val.items():\n",
        "            print(\"\\t\", k, \": \", v)\n",
        "\n",
        "    print(\"Done!\")"
      ]
    },
    {
      "cell_type": "markdown",
      "metadata": {
        "id": "FbuC7sYHX3Wl"
      },
      "source": [
        "We are ready to run experiments! Let's train the model for 5 epochs, with `window_size=2`. After each epoch, we perform validation and print the evaluation metrics."
      ]
    },
    {
      "cell_type": "code",
      "execution_count": 16,
      "metadata": {
        "id": "5ZTOFj9NXl65",
        "outputId": "c35c5e4d-dbc2-4670-c532-82db39a9d3a2",
        "colab": {
          "base_uri": "https://localhost:8080/"
        }
      },
      "outputs": [
        {
          "output_type": "stream",
          "name": "stdout",
          "text": [
            "Hyperparameters: {'batch_size': 512, 'd_emb': 64, 'd_hidden': 128, 'window_size': 2, 'num_epochs': 5, 'learning_rate': 0.01, 'l2': 1e-06}\n",
            "Loading data from eng.train\n",
            "203621 examples loaded.\n",
            "Loading data from eng.val\n",
            "49086 examples loaded.\n",
            "FFNN(\n",
            "  (embedding_layer): Embedding(20103, 64)\n",
            "  (hidden_layer): Linear(in_features=320, out_features=128, bias=True)\n",
            "  (sigmoid): Sigmoid()\n",
            "  (output_layer): Linear(in_features=128, out_features=5, bias=True)\n",
            ")\n",
            "Epoch #0\n",
            "Training..\n",
            "Training loss:  0.18161864804868735\n",
            "Training metrics:\n",
            "\t accuracy :  0.9480675377833753\n",
            "\t f1 :  [0.75271517 0.97798793 0.70368513 0.83702738 0.79849796]\n",
            "\t average f1 :  0.8139827138321388\n",
            "\t confusion matrix :  [[  6896   1931    229    419    531]\n",
            " [   476 167744    174    595    301]\n",
            " [   281   1169   2807    148    181]\n",
            " [   278   1631     59   8988    148]\n",
            " [   386   1274    123    222   6273]]\n",
            "Validating..\n",
            "Validation loss:  0.13522121651476482\n",
            "Validation metrics:\n",
            "\t accuracy :  0.9609053497942387\n",
            "\t f1 :  [0.78328099 0.98324707 0.77927685 0.8728079  0.87189873]\n",
            "\t average f1 :  0.858102307328968\n",
            "\t confusion matrix :  [[ 1621   381    51    50   147]\n",
            " [   97 40937    52    33    45]\n",
            " [   37   214   722     8    26]\n",
            " [   61   422     7  2165    35]\n",
            " [   73   151    14    15  1722]]\n",
            "Epoch #1\n",
            "Training..\n",
            "Training loss:  0.03441238845288003\n",
            "Training metrics:\n",
            "\t accuracy :  0.9901704187657431\n",
            "\t f1 :  [0.94045278 0.9968275  0.93035596 0.98129665 0.95808673]\n",
            "\t average f1 :  0.9614039212043494\n",
            "\t confusion matrix :  [[  9326    305    103     77    194]\n",
            " [   189 168887     81     64     56]\n",
            " [    94    194   4208     31     62]\n",
            " [    61     88     17  10913     31]\n",
            " [   158     98     48     47   7932]]\n",
            "Validating..\n",
            "Validation loss:  0.14051940751839234\n",
            "Validation metrics:\n",
            "\t accuracy :  0.9637574868597971\n",
            "\t f1 :  [0.80763791 0.98502452 0.78180889 0.8869969  0.87734199]\n",
            "\t average f1 :  0.8677620423306832\n",
            "\t confusion matrix :  [[ 1713   298    57    71   111]\n",
            " [  109 40781   100    74   100]\n",
            " [   24   183   765    14    21]\n",
            " [   65   281    12  2292    40]\n",
            " [   81    95    16    27  1756]]\n",
            "Epoch #2\n",
            "Training..\n",
            "Training loss:  0.021825784624974132\n",
            "Training metrics:\n",
            "\t accuracy :  0.9937175299118388\n",
            "\t f1 :  [0.96597685 0.99757346 0.96526709 0.98485395 0.97574841]\n",
            "\t average f1 :  0.9778839527068032\n",
            "\t confusion matrix :  [[  9639    197     41     38     91]\n",
            " [   135 168966     52     80     51]\n",
            " [    46    107   4391     15     25]\n",
            " [    38    119      8  10924     19]\n",
            " [    93     81     22     19   8067]]\n",
            "Validating..\n",
            "Validation loss:  0.17107318805892646\n",
            "Validation metrics:\n",
            "\t accuracy :  0.9622906735117956\n",
            "\t f1 :  [0.81207262 0.98344235 0.79022836 0.88059121 0.87042532]\n",
            "\t average f1 :  0.8673519728847591\n",
            "\t confusion matrix :  [[ 1722   299    40    72   117]\n",
            " [  130 40745    77    74   138]\n",
            " [   26   199   744    16    22]\n",
            " [   54   338     2  2264    32]\n",
            " [   59   117    13    26  1760]]\n",
            "Epoch #3\n",
            "Training..\n",
            "Training loss:  0.020900631177424446\n",
            "Training metrics:\n",
            "\t accuracy :  0.9937126102015114\n",
            "\t f1 :  [0.9709069  0.99732263 0.96681319 0.98133622 0.97866425]\n",
            "\t average f1 :  0.97900863685072\n",
            "\t confusion matrix :  [[  9678    168     38     50     71]\n",
            " [   124 168929     59    107     65]\n",
            " [    32    124   4399     11     20]\n",
            " [    47    162      3  10884     17]\n",
            " [    50     98     15     17   8096]]\n",
            "Validating..\n",
            "Validation loss:  0.16068073075681846\n",
            "Validation metrics:\n",
            "\t accuracy :  0.9650002037240761\n",
            "\t f1 :  [0.81966449 0.98479459 0.7932667  0.88386355 0.89503916]\n",
            "\t average f1 :  0.8753256991659681\n",
            "\t confusion matrix :  [[ 1759   306    38    78    69]\n",
            " [  102 40835    81   102    44]\n",
            " [   33   187   754    18    15]\n",
            " [   60   310     1  2306    13]\n",
            " [   88   129    20    24  1714]]\n",
            "Epoch #4\n",
            "Training..\n",
            "Training loss:  0.018275511009449734\n",
            "Training metrics:\n",
            "\t accuracy :  0.9945637200881612\n",
            "\t f1 :  [0.97338212 0.99775041 0.97082054 0.98580122 0.97969789]\n",
            "\t average f1 :  0.981490433876244\n",
            "\t confusion matrix :  [[  9709    169     30     33     62]\n",
            " [   113 168983     49     82     53]\n",
            " [    28    101   4425      9     24]\n",
            " [    35    111      9  10935     20]\n",
            " [    61     84     16     16   8107]]\n",
            "Validating..\n",
            "Validation loss:  0.1643119640181491\n",
            "Validation metrics:\n",
            "\t accuracy :  0.9623110459194067\n",
            "\t f1 :  [0.80642874 0.98377542 0.78821737 0.8821588  0.87460433]\n",
            "\t average f1 :  0.8670369333132701\n",
            "\t confusion matrix :  [[ 1706   296    50    58   140]\n",
            " [  133 40686   120    88   137]\n",
            " [   26   160   776    22    23]\n",
            " [   63   314     5  2272    36]\n",
            " [   53    94    11    21  1796]]\n",
            "Done!\n"
          ]
        }
      ],
      "source": [
        "train_val_loop_ffnn(\n",
        "    {\n",
        "        \"batch_size\": 512,\n",
        "        \"d_emb\": 64,\n",
        "        \"d_hidden\": 128,\n",
        "        \"window_size\": 2,\n",
        "        \"num_epochs\": 5,\n",
        "        \"learning_rate\": 0.01,\n",
        "        \"l2\": 1e-6,\n",
        "    }\n",
        ")"
      ]
    },
    {
      "cell_type": "markdown",
      "metadata": {
        "id": "h52XPGEg7JOu"
      },
      "source": [
        "Please re-run with `window_size=1`. How does the final performance change?"
      ]
    },
    {
      "cell_type": "code",
      "execution_count": 17,
      "metadata": {
        "id": "TvikQAmC2aW1",
        "outputId": "f57f1855-aa3e-4f35-ff57-d729dbe34b3c",
        "colab": {
          "base_uri": "https://localhost:8080/"
        }
      },
      "outputs": [
        {
          "output_type": "stream",
          "name": "stdout",
          "text": [
            "Hyperparameters: {'batch_size': 512, 'd_emb': 64, 'd_hidden': 128, 'window_size': 1, 'num_epochs': 5, 'learning_rate': 0.01, 'l2': 1e-06}\n",
            "Loading data from eng.train\n",
            "203621 examples loaded.\n",
            "Loading data from eng.val\n",
            "49086 examples loaded.\n",
            "FFNN(\n",
            "  (embedding_layer): Embedding(20103, 64)\n",
            "  (hidden_layer): Linear(in_features=192, out_features=128, bias=True)\n",
            "  (sigmoid): Sigmoid()\n",
            "  (output_layer): Linear(in_features=128, out_features=5, bias=True)\n",
            ")\n",
            "Epoch #0\n",
            "Training..\n",
            "Training loss:  0.1814779790226248\n",
            "Training metrics:\n",
            "\t accuracy :  0.9462029675692695\n",
            "\t f1 :  [0.73883274 0.97789444 0.70821884 0.82907221 0.78437654]\n",
            "\t average f1 :  0.8076789526930502\n",
            "\t confusion matrix :  [[  6798   1861    239    486    624]\n",
            " [   526 167461    172    550    571]\n",
            " [   317   1063   2835    167    203]\n",
            " [   324   1670     60   8869    182]\n",
            " [   429   1158    115    218   6366]]\n",
            "Validating..\n",
            "Validation loss:  0.14009762537898496\n",
            "Validation metrics:\n",
            "\t accuracy :  0.9565660269730677\n",
            "\t f1 :  [0.77637533 0.98120089 0.78154825 0.8470255  0.84432718]\n",
            "\t average f1 :  0.8460954276049841\n",
            "\t confusion matrix :  [[ 1630   397    48    60   115]\n",
            " [   93 40894    60    57    60]\n",
            " [   36   197   737    16    21]\n",
            " [   47   522     9  2093    19]\n",
            " [  143   181    25    26  1600]]\n",
            "Epoch #1\n",
            "Training..\n",
            "Training loss:  0.04069800227082872\n",
            "Training metrics:\n",
            "\t accuracy :  0.9882664908690176\n",
            "\t f1 :  [0.92534302 0.99655051 0.92058921 0.9787234  0.94385542]\n",
            "\t average f1 :  0.9530123140669374\n",
            "\t confusion matrix :  [[  9172    336    112     82    306]\n",
            " [   207 168861     97     67     60]\n",
            " [   123    207   4156     31     73]\n",
            " [    88     87     16  10856     49]\n",
            " [   226    108     58     52   7834]]\n",
            "Validating..\n",
            "Validation loss:  0.1543082829011837\n",
            "Validation metrics:\n",
            "\t accuracy :  0.9611294462779612\n",
            "\t f1 :  [0.79570941 0.98303049 0.80645161 0.85653765 0.87733333]\n",
            "\t average f1 :  0.8638124990769127\n",
            "\t confusion matrix :  [[ 1632   408    40    89    81]\n",
            " [   75 40927    43    91    28]\n",
            " [   22   195   750    29    11]\n",
            " [   33   420     3  2224    10]\n",
            " [   90   153    17    70  1645]]\n",
            "Epoch #2\n",
            "Training..\n",
            "Training loss:  0.02828015956291061\n",
            "Training metrics:\n",
            "\t accuracy :  0.9916217333123426\n",
            "\t f1 :  [0.94991955 0.99707505 0.9556314  0.98245139 0.96218563]\n",
            "\t average f1 :  0.9694526045691886\n",
            "\t confusion matrix :  [[  9446    243     64     43    211]\n",
            " [   171 168909     67     80     56]\n",
            " [    60    129   4340     15     42]\n",
            " [    52    146      6  10889     18]\n",
            " [   152     99     20     29   7977]]\n",
            "Validating..\n",
            "Validation loss:  0.15968810130531588\n",
            "Validation metrics:\n",
            "\t accuracy :  0.9600497086745712\n",
            "\t f1 :  [0.79103774 0.98288562 0.79683377 0.84986061 0.87904253]\n",
            "\t average f1 :  0.8599320527180501\n",
            "\t confusion matrix :  [[ 1677   351    43    67   112]\n",
            " [  114 40833    72    88    57]\n",
            " [   27   186   755    23    16]\n",
            " [   95   417     3  2134    41]\n",
            " [   77   137    15    20  1726]]\n",
            "Epoch #3\n",
            "Training..\n",
            "Training loss:  0.02664052014607439\n",
            "Training metrics:\n",
            "\t accuracy :  0.9914544631612091\n",
            "\t f1 :  [0.9528606  0.99674456 0.95626374 0.98002975 0.96415641]\n",
            "\t average f1 :  0.9700110097580736\n",
            "\t confusion matrix :  [[  9460    254     60     47    180]\n",
            " [   164 168857     70    123     73]\n",
            " [    50    148   4351     13     28]\n",
            " [    45    160      9  10870     18]\n",
            " [   136    111     20     28   7989]]\n",
            "Validating..\n",
            "Validation loss:  0.16531037563011827\n",
            "Validation metrics:\n",
            "\t accuracy :  0.9599274742289043\n",
            "\t f1 :  [0.79579651 0.98198577 0.79618846 0.85673988 0.87349081]\n",
            "\t average f1 :  0.8608402854955457\n",
            "\t confusion matrix :  [[ 1666   399    33    64    88]\n",
            " [   88 40911    73    39    53]\n",
            " [   28   189   752    23    15]\n",
            " [   62   483     4  2126    15]\n",
            " [   93   177    20    21  1664]]\n",
            "Epoch #4\n",
            "Training..\n",
            "Training loss:  0.022756917512992053\n",
            "Training metrics:\n",
            "\t accuracy :  0.9928073835012594\n",
            "\t f1 :  [0.96069474 0.99739646 0.96051039 0.98263184 0.96893661]\n",
            "\t average f1 :  0.9740340098972758\n",
            "\t confusion matrix :  [[  9569    178     40     57    157]\n",
            " [   139 168944     71     84     51]\n",
            " [    46    132   4366     10     31]\n",
            " [    46    134     10  10891     20]\n",
            " [   120     93     19     24   8032]]\n",
            "Validating..\n",
            "Validation loss:  0.16146765016067852\n",
            "Validation metrics:\n",
            "\t accuracy :  0.9610479566475166\n",
            "\t f1 :  [0.7975018  0.98409447 0.80582524 0.85305491 0.8645129 ]\n",
            "\t average f1 :  0.86099786442946\n",
            "\t confusion matrix :  [[ 1660   333    37    93   127]\n",
            " [   89 40835    50   113    77]\n",
            " [   29   171   747    41    19]\n",
            " [   54   359     2  2206    69]\n",
            " [   81   128    11    29  1726]]\n",
            "Done!\n"
          ]
        }
      ],
      "source": [
        "## TODO: Run again with window size 1\n",
        "## Keep other hyperparameters fixed\n",
        "train_val_loop_ffnn(\n",
        "    {\n",
        "        \"batch_size\": 512,\n",
        "        \"d_emb\": 64,\n",
        "        \"d_hidden\": 128,\n",
        "        \"window_size\": 1,\n",
        "        \"num_epochs\": 5,\n",
        "        \"learning_rate\": 0.01,\n",
        "        \"l2\": 1e-6,\n",
        "    }\n",
        ")\n",
        "## END"
      ]
    },
    {
      "cell_type": "markdown",
      "metadata": {
        "id": "rGgA0zExVtg9"
      },
      "source": [
        "### Question **(1 point)**\n",
        "\n",
        "If everything works as expected, you should see the loss decrease and the accuracy increase for both training and validation. The final accuracy can be pretty high; you should probably debug if it's below 92%. However, **is accuracy a good metric for this problem? Why?**. Hint: look at the F1 scores for different tags and the confusion matrix.\n",
        "\n",
        "**TODO: Please fill in your answer here**\n",
        "### Answer\n",
        "No the accuracy is not a good metric for this problem because the accuracy take into account the TP and TN and as the 'O' class is dominating here it affects on the value of accuracy. However, there are alot of misclassified values in the other classes.\n"
      ]
    },
    {
      "cell_type": "code",
      "execution_count": null,
      "metadata": {
        "id": "aF-aiPJ4JRbW"
      },
      "outputs": [],
      "source": []
    }
  ],
  "metadata": {
    "accelerator": "GPU",
    "colab": {
      "provenance": [],
      "include_colab_link": true
    },
    "kernelspec": {
      "display_name": "Python 3",
      "name": "python3"
    }
  },
  "nbformat": 4,
  "nbformat_minor": 0
}